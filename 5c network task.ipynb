{
 "cells": [
  {
   "cell_type": "code",
   "execution_count": 1,
   "id": "fe5f7bf6",
   "metadata": {},
   "outputs": [],
   "source": [
    "import pandas as pd"
   ]
  },
  {
   "cell_type": "code",
   "execution_count": 2,
   "id": "b4eb6023",
   "metadata": {},
   "outputs": [],
   "source": [
    "#uploading dataset\n",
    "data = pd.read_csv(\"C:/Users/sruthi/Downloads/sales_data_1.csv\") "
   ]
  },
  {
   "cell_type": "code",
   "execution_count": 3,
   "id": "6c9e5d92",
   "metadata": {},
   "outputs": [
    {
     "data": {
      "text/html": [
       "<div>\n",
       "<style scoped>\n",
       "    .dataframe tbody tr th:only-of-type {\n",
       "        vertical-align: middle;\n",
       "    }\n",
       "\n",
       "    .dataframe tbody tr th {\n",
       "        vertical-align: top;\n",
       "    }\n",
       "\n",
       "    .dataframe thead th {\n",
       "        text-align: right;\n",
       "    }\n",
       "</style>\n",
       "<table border=\"1\" class=\"dataframe\">\n",
       "  <thead>\n",
       "    <tr style=\"text-align: right;\">\n",
       "      <th></th>\n",
       "      <th>Date</th>\n",
       "      <th>Firm bought from</th>\n",
       "      <th>Buying price</th>\n",
       "      <th>Customer</th>\n",
       "      <th>Selling price</th>\n",
       "      <th>Quantity sold</th>\n",
       "    </tr>\n",
       "  </thead>\n",
       "  <tbody>\n",
       "    <tr>\n",
       "      <th>0</th>\n",
       "      <td>21/08/23</td>\n",
       "      <td>Vendor6</td>\n",
       "      <td>72.11</td>\n",
       "      <td>Customer7</td>\n",
       "      <td>91.58</td>\n",
       "      <td>44</td>\n",
       "    </tr>\n",
       "    <tr>\n",
       "      <th>1</th>\n",
       "      <td>21/08/23</td>\n",
       "      <td>Vendor4</td>\n",
       "      <td>75.08</td>\n",
       "      <td>Customer7</td>\n",
       "      <td>83.71</td>\n",
       "      <td>17</td>\n",
       "    </tr>\n",
       "    <tr>\n",
       "      <th>2</th>\n",
       "      <td>21/08/23</td>\n",
       "      <td>Vendor7</td>\n",
       "      <td>83.93</td>\n",
       "      <td>Customer2</td>\n",
       "      <td>103.76</td>\n",
       "      <td>15</td>\n",
       "    </tr>\n",
       "    <tr>\n",
       "      <th>3</th>\n",
       "      <td>21/08/23</td>\n",
       "      <td>Vendor7</td>\n",
       "      <td>52.01</td>\n",
       "      <td>Customer3</td>\n",
       "      <td>64.53</td>\n",
       "      <td>7</td>\n",
       "    </tr>\n",
       "    <tr>\n",
       "      <th>4</th>\n",
       "      <td>21/08/23</td>\n",
       "      <td>Vendor2</td>\n",
       "      <td>98.91</td>\n",
       "      <td>Customer5</td>\n",
       "      <td>140.92</td>\n",
       "      <td>1</td>\n",
       "    </tr>\n",
       "  </tbody>\n",
       "</table>\n",
       "</div>"
      ],
      "text/plain": [
       "       Date Firm bought from  Buying price   Customer  Selling price  \\\n",
       "0  21/08/23          Vendor6         72.11  Customer7          91.58   \n",
       "1  21/08/23          Vendor4         75.08  Customer7          83.71   \n",
       "2  21/08/23          Vendor7         83.93  Customer2         103.76   \n",
       "3  21/08/23          Vendor7         52.01  Customer3          64.53   \n",
       "4  21/08/23          Vendor2         98.91  Customer5         140.92   \n",
       "\n",
       "   Quantity sold  \n",
       "0             44  \n",
       "1             17  \n",
       "2             15  \n",
       "3              7  \n",
       "4              1  "
      ]
     },
     "execution_count": 3,
     "metadata": {},
     "output_type": "execute_result"
    }
   ],
   "source": [
    "data.head()"
   ]
  },
  {
   "cell_type": "code",
   "execution_count": 6,
   "id": "a4b4c9cf",
   "metadata": {},
   "outputs": [
    {
     "name": "stdout",
     "output_type": "stream",
     "text": [
      "0     856.68\n",
      "1     146.71\n",
      "2     297.45\n",
      "3      87.64\n",
      "4      42.01\n",
      "       ...  \n",
      "65    407.34\n",
      "66     84.00\n",
      "67    947.84\n",
      "68    126.44\n",
      "69     25.88\n",
      "Name: Gross Margin, Length: 70, dtype: float64\n"
     ]
    },
    {
     "data": {
      "text/html": [
       "<div>\n",
       "<style scoped>\n",
       "    .dataframe tbody tr th:only-of-type {\n",
       "        vertical-align: middle;\n",
       "    }\n",
       "\n",
       "    .dataframe tbody tr th {\n",
       "        vertical-align: top;\n",
       "    }\n",
       "\n",
       "    .dataframe thead th {\n",
       "        text-align: right;\n",
       "    }\n",
       "</style>\n",
       "<table border=\"1\" class=\"dataframe\">\n",
       "  <thead>\n",
       "    <tr style=\"text-align: right;\">\n",
       "      <th></th>\n",
       "      <th>Date</th>\n",
       "      <th>Firm bought from</th>\n",
       "      <th>Buying price</th>\n",
       "      <th>Customer</th>\n",
       "      <th>Selling price</th>\n",
       "      <th>Quantity sold</th>\n",
       "      <th>Gross Margin</th>\n",
       "    </tr>\n",
       "  </thead>\n",
       "  <tbody>\n",
       "    <tr>\n",
       "      <th>0</th>\n",
       "      <td>21/08/23</td>\n",
       "      <td>Vendor6</td>\n",
       "      <td>72.11</td>\n",
       "      <td>Customer7</td>\n",
       "      <td>91.58</td>\n",
       "      <td>44</td>\n",
       "      <td>856.68</td>\n",
       "    </tr>\n",
       "    <tr>\n",
       "      <th>1</th>\n",
       "      <td>21/08/23</td>\n",
       "      <td>Vendor4</td>\n",
       "      <td>75.08</td>\n",
       "      <td>Customer7</td>\n",
       "      <td>83.71</td>\n",
       "      <td>17</td>\n",
       "      <td>146.71</td>\n",
       "    </tr>\n",
       "    <tr>\n",
       "      <th>2</th>\n",
       "      <td>21/08/23</td>\n",
       "      <td>Vendor7</td>\n",
       "      <td>83.93</td>\n",
       "      <td>Customer2</td>\n",
       "      <td>103.76</td>\n",
       "      <td>15</td>\n",
       "      <td>297.45</td>\n",
       "    </tr>\n",
       "    <tr>\n",
       "      <th>3</th>\n",
       "      <td>21/08/23</td>\n",
       "      <td>Vendor7</td>\n",
       "      <td>52.01</td>\n",
       "      <td>Customer3</td>\n",
       "      <td>64.53</td>\n",
       "      <td>7</td>\n",
       "      <td>87.64</td>\n",
       "    </tr>\n",
       "    <tr>\n",
       "      <th>4</th>\n",
       "      <td>21/08/23</td>\n",
       "      <td>Vendor2</td>\n",
       "      <td>98.91</td>\n",
       "      <td>Customer5</td>\n",
       "      <td>140.92</td>\n",
       "      <td>1</td>\n",
       "      <td>42.01</td>\n",
       "    </tr>\n",
       "  </tbody>\n",
       "</table>\n",
       "</div>"
      ],
      "text/plain": [
       "       Date Firm bought from  Buying price   Customer  Selling price  \\\n",
       "0  21/08/23          Vendor6         72.11  Customer7          91.58   \n",
       "1  21/08/23          Vendor4         75.08  Customer7          83.71   \n",
       "2  21/08/23          Vendor7         83.93  Customer2         103.76   \n",
       "3  21/08/23          Vendor7         52.01  Customer3          64.53   \n",
       "4  21/08/23          Vendor2         98.91  Customer5         140.92   \n",
       "\n",
       "   Quantity sold  Gross Margin  \n",
       "0             44        856.68  \n",
       "1             17        146.71  \n",
       "2             15        297.45  \n",
       "3              7         87.64  \n",
       "4              1         42.01  "
      ]
     },
     "execution_count": 6,
     "metadata": {},
     "output_type": "execute_result"
    }
   ],
   "source": [
    "# Gross Margin for each transaction\n",
    "data['Gross Margin'] = (data['Selling price'] - data['Buying price']) * data['Quantity sold']\n",
    "print(data['Gross Margin'])\n",
    "data.head()"
   ]
  },
  {
   "cell_type": "code",
   "execution_count": 7,
   "id": "5c18b143",
   "metadata": {},
   "outputs": [
    {
     "name": "stdout",
     "output_type": "stream",
     "text": [
      "Overall Gross Margin: 31482.749999999996\n"
     ]
    }
   ],
   "source": [
    "# Q-1 - The overall gross margin\n",
    "overall_gross_margin = data['Gross Margin'].sum()\n",
    "print(\"Overall Gross Margin:\", overall_gross_margin)"
   ]
  },
  {
   "cell_type": "code",
   "execution_count": 11,
   "id": "d5ec4662",
   "metadata": {},
   "outputs": [
    {
     "name": "stdout",
     "output_type": "stream",
     "text": [
      "Firm bought from\n",
      "Vendor1     1555.59\n",
      "Vendor10    3040.62\n",
      "Vendor2     1296.98\n",
      "Vendor3     6370.67\n",
      "Vendor4     6903.31\n",
      "Vendor5     1616.14\n",
      "Vendor6     1217.95\n",
      "Vendor7     4961.05\n",
      "Vendor8      253.74\n",
      "Vendor9     4266.70\n",
      "Name: Gross Margin, dtype: float64\n"
     ]
    }
   ],
   "source": [
    "# Q-2 - The most profitable vendor\n",
    "vendor_profit = data.groupby('Firm bought from')['Gross Margin'].sum()\n",
    "print(vendor_profit)"
   ]
  },
  {
   "cell_type": "code",
   "execution_count": 17,
   "id": "07c316ff",
   "metadata": {},
   "outputs": [
    {
     "name": "stdout",
     "output_type": "stream",
     "text": [
      "Most Profitable Vendor: Vendor4\n"
     ]
    }
   ],
   "source": [
    "most_profitable_vendor = vendor_profit.sort_values(ascending=False).head(1)\n",
    "most_profitable_vendor_name = most_profitable_vendor.index[0]\n",
    "print(\"Most Profitable Vendor:\", most_profitable_vendor_name)"
   ]
  },
  {
   "cell_type": "code",
   "execution_count": 19,
   "id": "0fe28b3d",
   "metadata": {},
   "outputs": [
    {
     "name": "stdout",
     "output_type": "stream",
     "text": [
      "Customer\n",
      "Customer1     5310.57\n",
      "Customer10    3692.44\n",
      "Customer2     4215.67\n",
      "Customer3     1055.05\n",
      "Customer4     3337.37\n",
      "Customer5     1315.28\n",
      "Customer6     1930.76\n",
      "Customer7     2197.62\n",
      "Customer8     6498.91\n",
      "Customer9     1929.08\n",
      "Name: Gross Margin, dtype: float64\n"
     ]
    }
   ],
   "source": [
    "# Q-3 - The least profitable customer\n",
    "customer_profit = data.groupby('Customer')['Gross Margin'].sum()\n",
    "print(customer_profit)"
   ]
  },
  {
   "cell_type": "code",
   "execution_count": 20,
   "id": "5ddc4111",
   "metadata": {},
   "outputs": [
    {
     "name": "stdout",
     "output_type": "stream",
     "text": [
      "Least Profitable Customer: Customer3\n"
     ]
    }
   ],
   "source": [
    "least_profitable_customer = customer_profit.sort_values().head(1)\n",
    "least_profitable_customer_name = least_profitable_customer.index[0]\n",
    "print(\"Least Profitable Customer:\", least_profitable_customer_name)"
   ]
  },
  {
   "cell_type": "code",
   "execution_count": 34,
   "id": "79d21aae",
   "metadata": {},
   "outputs": [],
   "source": [
    "# Convert the 'Date' column to a datetime format\n",
    "data['Date'] = pd.to_datetime(data['Date'], format='%d/%m/%y')\n"
   ]
  },
  {
   "cell_type": "code",
   "execution_count": 37,
   "id": "439fe68e",
   "metadata": {},
   "outputs": [
    {
     "name": "stdout",
     "output_type": "stream",
     "text": [
      "Most Profitable Day of the Week: Monday\n"
     ]
    }
   ],
   "source": [
    "#  Q-4 - Most profitable day of the week \n",
    "data['Day of Week'] = data['Date'].dt.day_name()\n",
    "most_profitable_day = data.groupby('Day of Week')['Gross Margin'].sum().sort_values(ascending=False).head(1)\n",
    "most_profitable_day_name = most_profitable_day.index[0]\n",
    "print(\"Most Profitable Day of the Week:\", most_profitable_day_name)"
   ]
  },
  {
   "cell_type": "code",
   "execution_count": 39,
   "id": "0fb6fa72",
   "metadata": {},
   "outputs": [
    {
     "name": "stdout",
     "output_type": "stream",
     "text": [
      "Least Profitable Day of the Week: Sunday\n"
     ]
    }
   ],
   "source": [
    "# Q-5 - Least profitable day of the week\n",
    "least_profitable_day = data.groupby('Day of Week')['Gross Margin'].sum().sort_values().head(1)\n",
    "least_profitable_day_name = least_profitable_day.index[0]\n",
    "print(\"Least Profitable Day of the Week:\", least_profitable_day_name)"
   ]
  },
  {
   "cell_type": "code",
   "execution_count": 41,
   "id": "e293338d",
   "metadata": {},
   "outputs": [],
   "source": [
    "#uploading dataset\n",
    "data = pd.read_csv(\"C:/Users/sruthi/Downloads/sales_data_2.csv\") "
   ]
  },
  {
   "cell_type": "code",
   "execution_count": 42,
   "id": "f6daf4f3",
   "metadata": {},
   "outputs": [],
   "source": [
    "# Sort the data by date\n",
    "data = data.sort_values(by='Date')"
   ]
  },
  {
   "cell_type": "code",
   "execution_count": 44,
   "id": "d48bd92a",
   "metadata": {},
   "outputs": [
    {
     "name": "stdout",
     "output_type": "stream",
     "text": [
      "          Date  Gross Margin  3-Day Average Gross Profit\n",
      "0   2023-08-21        856.68                  856.680000\n",
      "1   2023-08-21        146.71                  501.695000\n",
      "2   2023-08-21        297.45                  433.613333\n",
      "3   2023-08-21         87.64                  177.266667\n",
      "4   2023-08-21         42.01                  142.366667\n",
      "..         ...           ...                         ...\n",
      "64  2023-08-27       1164.87                  427.866667\n",
      "65  2023-08-27        407.34                  552.863333\n",
      "66  2023-08-27         84.00                  552.070000\n",
      "67  2023-08-27        947.84                  479.726667\n",
      "69  2023-08-27         25.88                  352.573333\n",
      "\n",
      "[70 rows x 3 columns]\n"
     ]
    }
   ],
   "source": [
    "# Q-6 - 3-day average of the daily gross profit\n",
    "data['Gross Margin'] = (data['Selling price'] - data['Buying price']) * data['Quantity sold']\n",
    "data['3-Day Average Gross Profit'] = data['Gross Margin'].rolling(window=3, min_periods=1).mean()\n",
    "print(data[['Date', 'Gross Margin', '3-Day Average Gross Profit']])"
   ]
  }
 ],
 "metadata": {
  "kernelspec": {
   "display_name": "Python 3 (ipykernel)",
   "language": "python",
   "name": "python3"
  },
  "language_info": {
   "codemirror_mode": {
    "name": "ipython",
    "version": 3
   },
   "file_extension": ".py",
   "mimetype": "text/x-python",
   "name": "python",
   "nbconvert_exporter": "python",
   "pygments_lexer": "ipython3",
   "version": "3.9.13"
  }
 },
 "nbformat": 4,
 "nbformat_minor": 5
}
